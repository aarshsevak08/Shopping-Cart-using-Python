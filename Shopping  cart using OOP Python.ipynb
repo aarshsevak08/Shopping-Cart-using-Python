{
 "cells": [
  {
   "cell_type": "code",
   "execution_count": 1,
   "id": "17ea0034",
   "metadata": {},
   "outputs": [],
   "source": [
    "class Product:\n",
    "    def __init__(self, name, price):\n",
    "        self.name = name\n",
    "        self.price = price\n",
    "        \n",
    "class ShoppingCart:\n",
    "    def __init__(self):\n",
    "        self.items = []\n",
    "        \n",
    "    def add_item(self, item):\n",
    "        self.items.append(item)\n",
    "        \n",
    "    def remove_item(self, item):\n",
    "        self.items.remove(item)\n",
    "        \n",
    "    def calculate_total(self):\n",
    "        total = 0\n",
    "        for item in self.items:\n",
    "            total += item.price\n",
    "        return total\n",
    "        \n",
    "    def print_receipt(self):\n",
    "        print(\"Shopping Cart:\")\n",
    "        for item in self.items:\n",
    "            print(f\"{item.name}: ₹{item.price}\")\n",
    "        print(f\"Total: ₹{self.calculate_total()}\")\n",
    "\n",
    "# Example Usage\n",
    "p1 = Product(\"Shirt\", 29.99)\n",
    "p2 = Product(\"Jeans\", 39.99)\n",
    "p3 = Product(\"Socks\", 9.99)\n",
    "\n",
    "cart = ShoppingCart()\n",
    "# cart.add_item(p1)\n",
    "# cart.add_item(p2)\n",
    "# cart.add_item(p3)\n",
    "\n",
    "# cart.print_receipt()\n",
    "\n",
    "# cart.remove_item(p2)\n",
    "\n",
    "# cart.print_receipt()\n"
   ]
  },
  {
   "cell_type": "code",
   "execution_count": 2,
   "id": "b2f6cf00",
   "metadata": {},
   "outputs": [],
   "source": [
    "cart.add_item(p1)\n",
    "cart.add_item(p2)\n",
    "cart.add_item(p3)"
   ]
  },
  {
   "cell_type": "code",
   "execution_count": 3,
   "id": "b8b6e96d",
   "metadata": {},
   "outputs": [
    {
     "name": "stdout",
     "output_type": "stream",
     "text": [
      "Shopping Cart:\n",
      "Shirt: ₹29.99\n",
      "Jeans: ₹39.99\n",
      "Socks: ₹9.99\n",
      "Total: ₹79.97\n"
     ]
    }
   ],
   "source": [
    "cart.print_receipt()"
   ]
  },
  {
   "cell_type": "code",
   "execution_count": 4,
   "id": "609b4bc1",
   "metadata": {},
   "outputs": [],
   "source": [
    "cart.remove_item(p2)"
   ]
  },
  {
   "cell_type": "code",
   "execution_count": 5,
   "id": "2ece7e0c",
   "metadata": {},
   "outputs": [
    {
     "name": "stdout",
     "output_type": "stream",
     "text": [
      "Shopping Cart:\n",
      "Shirt: ₹29.99\n",
      "Socks: ₹9.99\n",
      "Total: ₹39.98\n"
     ]
    }
   ],
   "source": [
    "cart.print_receipt()"
   ]
  },
  {
   "cell_type": "code",
   "execution_count": null,
   "id": "4cdd6169",
   "metadata": {},
   "outputs": [],
   "source": []
  },
  {
   "cell_type": "code",
   "execution_count": null,
   "id": "6eb5354c",
   "metadata": {},
   "outputs": [],
   "source": []
  }
 ],
 "metadata": {
  "kernelspec": {
   "display_name": "Python 3 (ipykernel)",
   "language": "python",
   "name": "python3"
  },
  "language_info": {
   "codemirror_mode": {
    "name": "ipython",
    "version": 3
   },
   "file_extension": ".py",
   "mimetype": "text/x-python",
   "name": "python",
   "nbconvert_exporter": "python",
   "pygments_lexer": "ipython3",
   "version": "3.11.0"
  }
 },
 "nbformat": 4,
 "nbformat_minor": 5
}
